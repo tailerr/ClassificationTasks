{
 "cells": [
  {
   "cell_type": "markdown",
   "metadata": {},
   "source": [
    "# Задание 1\n",
    "\n",
    "[Свертка списка](https://ru.wikipedia.org/wiki/%D0%A1%D0%B2%D1%91%D1%80%D1%82%D0%BA%D0%B0_%D1%81%D0%BF%D0%B8%D1%81%D0%BA%D0%B0) -  это обобщенная операция над списком, c помощью которой можно преобразовать список в единое значение. Например, рассмотрим реализации свертки слева и свертки справа (левоассоциативную свертку и правоассоциативную свертку):"
   ]
  },
  {
   "cell_type": "code",
   "execution_count": 17,
   "metadata": {
    "collapsed": true
   },
   "outputs": [],
   "source": [
    "def foldl(f, x0, lst):\n",
    "    if not lst:\n",
    "        return x0\n",
    "    return foldl(f, f(x0, lst[0]), lst[1:])\n",
    "\n",
    "def foldr(f, x0, lst):\n",
    "    if not lst:\n",
    "        return x0\n",
    "    return f(lst[0], foldr(f, x0, lst[1:]))"
   ]
  },
  {
   "cell_type": "code",
   "execution_count": 18,
   "metadata": {},
   "outputs": [
    {
     "data": {
      "text/plain": [
       "6"
      ]
     },
     "execution_count": 18,
     "metadata": {},
     "output_type": "execute_result"
    }
   ],
   "source": [
    "#сумма\n",
    "foldl(lambda x, y: x + y, 0, [1, 2, 3])"
   ]
  },
  {
   "cell_type": "code",
   "execution_count": 19,
   "metadata": {},
   "outputs": [
    {
     "data": {
      "text/plain": [
       "'123'"
      ]
     },
     "execution_count": 19,
     "metadata": {},
     "output_type": "execute_result"
    }
   ],
   "source": [
    "#конкатенация\n",
    "foldl(lambda x, y: '{}{}'.format(x, y), '', [1, 2, 3])"
   ]
  },
  {
   "cell_type": "code",
   "execution_count": 20,
   "metadata": {},
   "outputs": [
    {
     "data": {
      "text/plain": [
       "(0.16666666666666666, 1.5)"
      ]
     },
     "execution_count": 20,
     "metadata": {},
     "output_type": "execute_result"
    }
   ],
   "source": [
    "f = lambda x, y: x / y\n",
    "foldl(f, 1, [1, 2, 3]), \\\n",
    "foldr(f, 1, [1, 2, 3])"
   ]
  },
  {
   "cell_type": "markdown",
   "metadata": {},
   "source": [
    "Задача: реализовать foldl через foldr и наоборот. Вместо многоточий нужно вставить выражения, которые бы привели к нужному результату."
   ]
  },
  {
   "cell_type": "code",
   "execution_count": 21,
   "metadata": {
    "collapsed": true
   },
   "outputs": [],
   "source": [
    "def foldl2(f, x0, lst):\n",
    "    return foldr(lambda a, temp: lambda x: temp(f(x, a)), lambda x : x, lst)(x0)"
   ]
  },
  {
   "cell_type": "code",
   "execution_count": 22,
   "metadata": {
    "collapsed": true
   },
   "outputs": [],
   "source": [
    "def foldr2(f, x0, lst):\n",
    "    return foldl(lambda temp, a: lambda x: temp(f(a, x)), lambda x : x, lst)(x0)"
   ]
  },
  {
   "cell_type": "code",
   "execution_count": 23,
   "metadata": {},
   "outputs": [
    {
     "data": {
      "text/plain": [
       "(0.16666666666666666, 1.5)"
      ]
     },
     "execution_count": 23,
     "metadata": {},
     "output_type": "execute_result"
    }
   ],
   "source": [
    "f = lambda x, y: x / y\n",
    "foldl2(f, 1, [1, 2, 3]), \\\n",
    "foldr2(f, 1, [1, 2, 3])"
   ]
  },
  {
   "cell_type": "markdown",
   "metadata": {},
   "source": [
    "# Задание 2\n",
    "\n",
    "нужно написать функцию, которая принимает две строки и проверяет, входит ли хотя бы одна перестановка второй строки в первую. Например:\n",
    "\n",
    "> a = 'abcrotm'\n",
    "> \n",
    "> b = 'tro'\n",
    "\n",
    "функция def check_inv(a, b) вернет True, так как 'rot' содержится в 'abcrotm'. Нужно подумать как можно более оптимальный алгоритм и оценить его сложность. "
   ]
  },
  {
   "cell_type": "code",
   "execution_count": 24,
   "metadata": {
    "collapsed": true
   },
   "outputs": [
    {
     "data": {
      "text/plain": [
       "False"
      ]
     },
     "execution_count": 24,
     "metadata": {},
     "output_type": "execute_result"
    }
   ],
   "source": [
    "def check_inv(a, b):\n",
    "    n = len(a)\n",
    "    l = len(b)\n",
    "    if (n == 0 or l == 0 or n<l):\n",
    "        return False\n",
    "    \n",
    "    def addLetter(d, c):\n",
    "        if c not in d.keys():\n",
    "            d[c] = 1\n",
    "        else:\n",
    "            d[c] += 1\n",
    "            \n",
    "    def delLetter(d, c):        \n",
    "        if d[c] == 1:\n",
    "            d.pop(c)\n",
    "        else:\n",
    "            d[c] -= 1\n",
    "    \n",
    "    dictA = {}\n",
    "    dictB = {}\n",
    "    \n",
    "    for i in range(l):\n",
    "        addLetter(dictA, a[i])\n",
    "        addLetter(dictB, b[i])\n",
    "    \n",
    "    for i in range(l, n):\n",
    "        if (dictA == dictB):\n",
    "            return True\n",
    "        delLetter(dictA, a[i-l])\n",
    "        addLetter(dictA, a[i])\n",
    "    return False\n",
    "\n",
    "\n",
    "check_inv('abcrotm', 'tro')\n",
    "check_inv('abbcq', 'abcc')"
   ]
  },
  {
   "cell_type": "markdown",
   "metadata": {},
   "source": [
    "# Задание 3\n",
    "\n",
    "Реализовать бинарное дерево (класс Tree), в нём методы __repr__, __str__, __iter__ (итерация только по листьям)."
   ]
  },
  {
   "cell_type": "code",
   "execution_count": 2,
   "metadata": {},
   "outputs": [
    {
     "data": {
      "text/plain": [
       "True"
      ]
     },
     "execution_count": 2,
     "metadata": {},
     "output_type": "execute_result"
    }
   ],
   "source": [
    "class Tree:\n",
    "    def __init__(self, value=None, left=None, right=None):\n",
    "        self.left = left\n",
    "        self.right = right\n",
    "        self.value = value\n",
    "        \n",
    "    def __iter__(self):\n",
    "        if self.left == None and self.right== None:\n",
    "            yield self.value\n",
    "        if self.left:\n",
    "            yield from iter(self.left)\n",
    "        if self.right:\n",
    "            yield from iter(self.right)\n",
    "    \n",
    "    def __str__(self):\n",
    "        return '({},{},{})'.format(self.value, str(self.left), str(self.right))\n",
    "    \n",
    "    \n",
    "    def __repr__(self):\n",
    "        return 'Tree({},{},{})'.format(self.value, repr(self.left), repr(self.right))\n",
    "\n",
    "    \n",
    "tree = Tree(0, Tree(1, Tree(3), Tree(4)),                             \n",
    "               Tree(2))\n",
    "\n",
    "list(tree) == [3, 4, 2]"
   ]
  },
  {
   "cell_type": "markdown",
   "metadata": {},
   "source": [
    "# Задание 4\n",
    "\n",
    "Реализовать простейший калькулятор математических выражений:\n",
    "- только целые числа\n",
    "- **+**, **\\-**, **\\***, **\\**\n",
    "- скобки\n",
    "\n",
    "**Можно использовать регулярные выражения**"
   ]
  },
  {
   "cell_type": "code",
   "execution_count": 1,
   "metadata": {},
   "outputs": [
    {
     "data": {
      "text/plain": [
       "True"
      ]
     },
     "execution_count": 1,
     "metadata": {},
     "output_type": "execute_result"
    }
   ],
   "source": [
    "import re\n",
    "from operator import add, mul, sub, truediv\n",
    "\n",
    "\n",
    "operations = {'*': mul, '\\\\': truediv, '+': add, '-': sub}\n",
    "\n",
    "def calc1(expr):\n",
    "    while True:\n",
    "        firstPrior = re.findall(r'\\d+ [\\*|\\/] \\d+', expr)\n",
    "        if firstPrior == []:\n",
    "            break\n",
    "        for i in firstPrior:\n",
    "            k = i.split(' ')\n",
    "            expr = expr.replace(i, str(operations[k[1]](int(k[0]), int(k[2]))))\n",
    "    \n",
    "    while True:\n",
    "        secondPrior = re.findall(r'\\d+ [\\+|\\-] \\d+', expr)\n",
    "        if secondPrior == []:\n",
    "            break\n",
    "        for i in secondPrior:\n",
    "            k = i.split(' ')\n",
    "            expr = expr.replace(i, str(operations[k[1]](int(k[0]), int(k[2]))))\n",
    "    \n",
    "    return expr\n",
    "\n",
    "\n",
    "def calc(expr):\n",
    "    while True:\n",
    "        brackets = re.findall(r\"\\(([^\\(\\)]+)\\)\", expr)\n",
    "        if brackets == []:\n",
    "            break\n",
    "        for i in brackets:\n",
    "            expr = expr.replace('('+i+')', calc1(i))\n",
    "    \n",
    "    return int(calc1(expr))\n",
    "\n",
    "calc('2 * (15 - 3 * 4) - 2') == 4"
   ]
  },
  {
   "cell_type": "code",
   "execution_count": null,
   "metadata": {
    "collapsed": true
   },
   "outputs": [],
   "source": []
  }
 ],
 "metadata": {
  "kernelspec": {
   "display_name": "Python 3",
   "language": "python",
   "name": "python3"
  },
  "language_info": {
   "codemirror_mode": {
    "name": "ipython",
    "version": 3
   },
   "file_extension": ".py",
   "mimetype": "text/x-python",
   "name": "python",
   "nbconvert_exporter": "python",
   "pygments_lexer": "ipython3",
   "version": "3.6.3"
  }
 },
 "nbformat": 4,
 "nbformat_minor": 2
}
