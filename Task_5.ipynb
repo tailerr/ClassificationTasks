{
 "cells": [
  {
   "cell_type": "markdown",
   "metadata": {},
   "source": [
    "# Линейная регрессия"
   ]
  },
  {
   "cell_type": "markdown",
   "metadata": {},
   "source": [
    "Данные содержатся в файле `data/lin_reg.txt`. Прочитать их можно следующим так:"
   ]
  },
  {
   "cell_type": "code",
   "execution_count": 47,
   "metadata": {},
   "outputs": [],
   "source": [
    "%matplotlib inline\n",
    "\n",
    "\n",
    "import numpy as np\n",
    "import matplotlib.pyplot as plt\n",
    "\n",
    "D = np.loadtxt('../data/lin_reg.txt', delimiter=',')\n",
    "X = D[:, :-1]\n",
    "Y = D[:, -1]\n",
    "X = np.concatenate((np.ones((X.shape[0], 1)), X), 1)\n",
    "Y = Y.reshape(-1, 1)\n",
    "\n",
    "eps = 0.0001\n",
    "koef = 0.0000001"
   ]
  },
  {
   "cell_type": "markdown",
   "metadata": {},
   "source": [
    "При выполнении заданий **нельзя** пользоваться `scikit-learn` и т.п., только `numpy` и `matplotlib`.\n",
    "\n",
    "1. Нарисуйте график среднеквадратичной ошибки в зависимости от параметра регуляризации $\\alpha$, используя полные данные для обучения и для тестирования. \n",
    "2. Подготовьте исходные данные для 5 fold CV.\n",
    "3. С помощью CV найдите оптимальное значение $\\alpha$ на какой-нибудь сетке значений.\n",
    "4. Постройте валидационную кривую. \n",
    "5. Постройте кривую обучения."
   ]
  },
  {
   "cell_type": "code",
   "execution_count": 48,
   "metadata": {},
   "outputs": [],
   "source": [
    "def func_to_min(X, Y, theta, alpha):\n",
    "    return np.sum((X @ theta - Y) ** 2) + alpha * np.sum(theta ** 2)\n",
    "\n",
    "\n",
    "def func_grad(X, Y, theta, alpha):\n",
    "    return ((X @ theta - Y).T @ X).T + alpha * theta\n",
    "\n",
    "\n",
    "def gcd(X, Y, alpha, koef, eps):\n",
    "    theta = np.ones((X.shape[1], 1))\n",
    "    Qs = []\n",
    "    while True:\n",
    "        Q = func_to_min(X, Y, theta, alpha)\n",
    "        Qs.append(Q)\n",
    "        step = koef*(func_grad(X, Y, theta, alpha))  \n",
    "        if np.linalg.norm(step) < eps:\n",
    "            break\n",
    "        theta -= step   \n",
    "    return theta, Q, Qs     \n"
   ]
  },
  {
   "cell_type": "markdown",
   "metadata": {},
   "source": [
    "Нарисуйте график среднеквадратичной ошибки в зависимости от параметра регуляризации  α, используя полные данные для обучения и для тестирования."
   ]
  },
  {
   "cell_type": "code",
   "execution_count": 49,
   "metadata": {},
   "outputs": [
    {
     "data": {
      "text/plain": [
       "[<matplotlib.lines.Line2D at 0x7fc57b47cf60>]"
      ]
     },
     "execution_count": 49,
     "metadata": {},
     "output_type": "execute_result"
    },
    {
     "data": {
      "image/png": "[encoded data removed]",
      "text/plain": [
       "<Figure size 432x288 with 1 Axes>"
      ]
     },
     "metadata": {},
     "output_type": "display_data"
    }
   ],
   "source": [
    "\n",
    "alphas = np.linspace(0, 20, 100)\n",
    "Qs = [gcd(X, Y, alpha, koef, eps)[1] for alpha in alphas]\n",
    "\n",
    "plt.plot(alphas, Qs)"
   ]
  },
  {
   "cell_type": "markdown",
   "metadata": {},
   "source": [
    "2. Подготовьте исходные данные для 5 fold CV."
   ]
  },
  {
   "cell_type": "code",
   "execution_count": 51,
   "metadata": {},
   "outputs": [],
   "source": [
    "def KFold(data, n=5):\n",
    "    data = np.concatenate((np.ones((data.shape[0], 1)), data), 1)\n",
    "    np.take(data,np.random.permutation(data.shape[0]),axis=0,out=data)\n",
    "    splits = np.split(data, n)\n",
    "    for k in range(n):\n",
    "        X_test, y_test = splits[k][:, :-1], splits[k][:, -1]\n",
    "        train = np.concatenate(np.delete(splits, k, 0))\n",
    "        X_train, y_train = train[:, :-1], train[:, -1]\n",
    "        yield X_train, X_test, y_train.reshape((-1,1)), y_test.reshape((-1,1))\n",
    "        "
   ]
  },
  {
   "cell_type": "markdown",
   "metadata": {},
   "source": [
    "С помощью CV найдите оптимальное значение  α  на какой-нибудь сетке значений."
   ]
  },
  {
   "cell_type": "code",
   "execution_count": 52,
   "metadata": {},
   "outputs": [],
   "source": [
    "def search_optim_value(alphas):\n",
    "    Alpha, Score = 0, np.inf\n",
    "    scores = [0]*len(alphas)\n",
    "    for X_train, X_test, y_train, y_test in KFold(D):\n",
    "        for i, alpha in enumerate(alphas):\n",
    "            theta = gcd(X_train, y_train, alpha, koef, eps)[0] \n",
    "            score = func_to_min(X_test, y_test, theta, alpha)\n",
    "            scores[i] += score\n",
    "            if score < Score:\n",
    "                Alpha = alpha\n",
    "                Score = score\n",
    "    return Alpha, Score, [score/5 for score in scores] \n",
    "    \n",
    "    "
   ]
  },
  {
   "cell_type": "code",
   "execution_count": 53,
   "metadata": {},
   "outputs": [
    {
     "name": "stdout",
     "output_type": "stream",
     "text": [
      "alpha = 0.0, loss = 17526.09847141287\n"
     ]
    }
   ],
   "source": [
    "alphas = np.linspace(0, 20, 100)\n",
    "alpha, score, scores = search_optim_value(alphas)\n",
    "print(\"alpha = {}, loss = {}\".format(alpha, score))"
   ]
  },
  {
   "cell_type": "markdown",
   "metadata": {},
   "source": [
    "Постройте валидационную кривую."
   ]
  },
  {
   "cell_type": "code",
   "execution_count": 54,
   "metadata": {},
   "outputs": [
    {
     "data": {
      "text/plain": [
       "[<matplotlib.lines.Line2D at 0x7fc57b3e05c0>]"
      ]
     },
     "execution_count": 54,
     "metadata": {},
     "output_type": "execute_result"
    },
    {
     "data": {
      "image/png": "[encoded data removed]",
      "text/plain": [
       "<Figure size 432x288 with 1 Axes>"
      ]
     },
     "metadata": {},
     "output_type": "display_data"
    }
   ],
   "source": [
    "plt.plot(alphas, scores)"
   ]
  },
  {
   "cell_type": "markdown",
   "metadata": {},
   "source": [
    "Постройте кривую обучения."
   ]
  },
  {
   "cell_type": "code",
   "execution_count": 55,
   "metadata": {},
   "outputs": [
    {
     "data": {
      "text/plain": [
       "[<matplotlib.lines.Line2D at 0x7fc57b3c2390>]"
      ]
     },
     "execution_count": 55,
     "metadata": {},
     "output_type": "execute_result"
    },
    {
     "data": {
      "image/png": "[encoded data removed]",
      "text/plain": [
       "<Figure size 432x288 with 1 Axes>"
      ]
     },
     "metadata": {},
     "output_type": "display_data"
    }
   ],
   "source": [
    "Qs = gcd(X, Y, alpha, koef, eps)[2]\n",
    "plt.plot(np.arange(len(Qs)), Qs)"
   ]
  }
 ],
 "metadata": {
  "kernelspec": {
   "display_name": "Python 3",
   "language": "python",
   "name": "python3"
  },
  "language_info": {
   "codemirror_mode": {
    "name": "ipython",
    "version": 3
   },
   "file_extension": ".py",
   "mimetype": "text/x-python",
   "name": "python",
   "nbconvert_exporter": "python",
   "pygments_lexer": "ipython3",
   "version": "3.6.3"
  }
 },
 "nbformat": 4,
 "nbformat_minor": 2
}
